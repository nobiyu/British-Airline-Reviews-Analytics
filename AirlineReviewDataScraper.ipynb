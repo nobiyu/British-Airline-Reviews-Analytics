{
 "cells": [
  {
   "cell_type": "markdown",
   "id": "f3866887",
   "metadata": {},
   "source": [
    "<h1>Importing Required Libraries</h1>"
   ]
  },
  {
   "cell_type": "code",
   "execution_count": 1,
   "id": "aad69942",
   "metadata": {},
   "outputs": [],
   "source": [
    "import pandas as pd\n",
    "from bs4 import BeautifulSoup\n",
    "import requests"
   ]
  },
  {
   "cell_type": "markdown",
   "id": "58f26ccf",
   "metadata": {},
   "source": [
    "<h1>Defining Variables</h1>"
   ]
  },
  {
   "cell_type": "code",
   "execution_count": 2,
   "id": "b87ea05a",
   "metadata": {},
   "outputs": [],
   "source": [
    "n = 3586 #Number of reviews required(MAX:3586)\n",
    "URL = f\"https://www.airlinequality.com/airline-reviews/british-airways/page/1/?sortby=post_date%3ADesc&pagesize={n}\""
   ]
  },
  {
   "cell_type": "markdown",
   "id": "a842e8a7",
   "metadata": {},
   "source": [
    "<h1>Function for Data Scraping</h1>"
   ]
  },
  {
   "cell_type": "code",
   "execution_count": 3,
   "id": "2a42b6c8",
   "metadata": {},
   "outputs": [],
   "source": [
    "def fetch_data(url):\n",
    "    df = pd.DataFrame(columns=['rev_id','review', 'Name', 'Country', 'Date', 'long_review', \"aircraft\", \"type_of_traveller\", \"cabin_flown\", \"route\", \"date_flown\", \"seat_comfort\", \n",
    "                               \"cabin_staff_service\", \"food_and_beverages\", \"ground_service\", \"value_for_money\", \"recommended\"])\n",
    "    page = requests.get(url)\n",
    "    soup = BeautifulSoup(page.content, 'html.parser')\n",
    "    i=0\n",
    "    for article in soup.find_all(\"article\", {\"class\":\"comp_media-review-rated\"}):\n",
    "        try:\n",
    "            name = article.h3.get_text().split(\"(\")[0].strip()\n",
    "        except:\n",
    "            name = None\n",
    "        try:\n",
    "            country = article.h3.get_text().split(\"(\")[1].split(\")\")[0].strip()\n",
    "        except:\n",
    "            country = None\n",
    "        try:\n",
    "            date = article.h3.get_text().split(\"(\")[1].split(\")\")[1].strip()\n",
    "        except:\n",
    "            date = None\n",
    "        df = df.append({\n",
    "            'rev_id': article['class'][-1].replace(\"review-\", \"\"),\n",
    "            'review': article.h2.get_text(),\n",
    "            'Name': name,\n",
    "            'Country': country,\n",
    "            'Date': date,\n",
    "            'long_review': article.find(\"div\", {\"class\": \"text_content\"}).get_text(),\n",
    "        }, ignore_index = True)\n",
    "\n",
    "        for table in article.find_all('table', {\"class\":\"review-ratings\"}):\n",
    "            for row in (table.find_all('tr')):\n",
    "                if row.find_all(\"td\")[1].get_text() != '12345':\n",
    "                    df.loc[i].at[row.find(\"td\")['class'][-1]] = row.find_all(\"td\")[1].get_text()\n",
    "                else:\n",
    "                    df.loc[i].at[row.find(\"td\")['class'][-1]] = len(row.find_all(\"span\", {\"class\":\"fill\"}))\n",
    "        i+=1\n",
    "    return df"
   ]
  },
  {
   "cell_type": "markdown",
   "id": "aea3847f",
   "metadata": {},
   "source": [
    "<h1>Basic Data Preprocessing</h1>"
   ]
  },
  {
   "cell_type": "code",
   "execution_count": 4,
   "id": "70c6a4ed",
   "metadata": {},
   "outputs": [],
   "source": [
    "df = fetch_data(URL)"
   ]
  },
  {
   "cell_type": "code",
   "execution_count": 5,
   "id": "c75af6d5",
   "metadata": {},
   "outputs": [
    {
     "data": {
      "text/html": [
       "<div>\n",
       "<style scoped>\n",
       "    .dataframe tbody tr th:only-of-type {\n",
       "        vertical-align: middle;\n",
       "    }\n",
       "\n",
       "    .dataframe tbody tr th {\n",
       "        vertical-align: top;\n",
       "    }\n",
       "\n",
       "    .dataframe thead th {\n",
       "        text-align: right;\n",
       "    }\n",
       "</style>\n",
       "<table border=\"1\" class=\"dataframe\">\n",
       "  <thead>\n",
       "    <tr style=\"text-align: right;\">\n",
       "      <th></th>\n",
       "      <th>rev_id</th>\n",
       "      <th>review</th>\n",
       "      <th>Name</th>\n",
       "      <th>Country</th>\n",
       "      <th>Date</th>\n",
       "      <th>long_review</th>\n",
       "      <th>aircraft</th>\n",
       "      <th>type_of_traveller</th>\n",
       "      <th>cabin_flown</th>\n",
       "      <th>route</th>\n",
       "      <th>date_flown</th>\n",
       "      <th>seat_comfort</th>\n",
       "      <th>cabin_staff_service</th>\n",
       "      <th>food_and_beverages</th>\n",
       "      <th>ground_service</th>\n",
       "      <th>value_for_money</th>\n",
       "      <th>recommended</th>\n",
       "    </tr>\n",
       "  </thead>\n",
       "  <tbody>\n",
       "    <tr>\n",
       "      <th>0</th>\n",
       "      <td>877598</td>\n",
       "      <td>\"I would still recommend BA\"</td>\n",
       "      <td>Michael Gardiner</td>\n",
       "      <td>United Kingdom</td>\n",
       "      <td>23rd October 2023</td>\n",
       "      <td>Not Verified |  I flew London to Cairo and ret...</td>\n",
       "      <td>A321 neo</td>\n",
       "      <td>Business</td>\n",
       "      <td>Economy Class</td>\n",
       "      <td>London Heathrow to Cairo</td>\n",
       "      <td>October 2023</td>\n",
       "      <td>3</td>\n",
       "      <td>5</td>\n",
       "      <td>3</td>\n",
       "      <td>5</td>\n",
       "      <td>2</td>\n",
       "      <td>yes</td>\n",
       "    </tr>\n",
       "    <tr>\n",
       "      <th>1</th>\n",
       "      <td>877522</td>\n",
       "      <td>\"the worst experience ever\"</td>\n",
       "      <td>Terry Anderson</td>\n",
       "      <td>United States</td>\n",
       "      <td>22nd October 2023</td>\n",
       "      <td>Not Verified |  Absolutely the worst experienc...</td>\n",
       "      <td>NaN</td>\n",
       "      <td>Couple Leisure</td>\n",
       "      <td>Economy Class</td>\n",
       "      <td>Seattle to Porto via Heathrow</td>\n",
       "      <td>October 2023</td>\n",
       "      <td>2</td>\n",
       "      <td>3</td>\n",
       "      <td>3</td>\n",
       "      <td>1</td>\n",
       "      <td>1</td>\n",
       "      <td>no</td>\n",
       "    </tr>\n",
       "    <tr>\n",
       "      <th>2</th>\n",
       "      <td>877484</td>\n",
       "      <td>\"an exceptional crew member\"</td>\n",
       "      <td>Philip Thompson</td>\n",
       "      <td>United Kingdom</td>\n",
       "      <td>22nd October 2023</td>\n",
       "      <td>Not Verified |   Flew back from Malta after sc...</td>\n",
       "      <td>A320</td>\n",
       "      <td>Couple Leisure</td>\n",
       "      <td>Economy Class</td>\n",
       "      <td>Malta to London Gatwick</td>\n",
       "      <td>October 2023</td>\n",
       "      <td>4</td>\n",
       "      <td>5</td>\n",
       "      <td>3</td>\n",
       "      <td>4</td>\n",
       "      <td>4</td>\n",
       "      <td>yes</td>\n",
       "    </tr>\n",
       "    <tr>\n",
       "      <th>3</th>\n",
       "      <td>877425</td>\n",
       "      <td>\"even Ryanair have more space\"</td>\n",
       "      <td>M Meijs</td>\n",
       "      <td>Netherlands</td>\n",
       "      <td>21st October 2023</td>\n",
       "      <td>Not Verified | Cabin luggage had to go to carg...</td>\n",
       "      <td>NaN</td>\n",
       "      <td>Solo Leisure</td>\n",
       "      <td>Economy Class</td>\n",
       "      <td>London to Amsterdam</td>\n",
       "      <td>October 2023</td>\n",
       "      <td>1</td>\n",
       "      <td>3</td>\n",
       "      <td>NaN</td>\n",
       "      <td>2</td>\n",
       "      <td>1</td>\n",
       "      <td>no</td>\n",
       "    </tr>\n",
       "    <tr>\n",
       "      <th>4</th>\n",
       "      <td>877380</td>\n",
       "      <td>\"in-flight service is usually weak\"</td>\n",
       "      <td>Mehmet Sahiner</td>\n",
       "      <td>United Kingdom</td>\n",
       "      <td>21st October 2023</td>\n",
       "      <td>✅ Trip Verified |  I have been using BA for a ...</td>\n",
       "      <td>A380-800</td>\n",
       "      <td>Solo Leisure</td>\n",
       "      <td>Economy Class</td>\n",
       "      <td>San Francisco to London</td>\n",
       "      <td>October 2023</td>\n",
       "      <td>3</td>\n",
       "      <td>2</td>\n",
       "      <td>2</td>\n",
       "      <td>2</td>\n",
       "      <td>3</td>\n",
       "      <td>no</td>\n",
       "    </tr>\n",
       "  </tbody>\n",
       "</table>\n",
       "</div>"
      ],
      "text/plain": [
       "   rev_id                               review              Name  \\\n",
       "0  877598        \"I would still recommend BA\"   Michael Gardiner   \n",
       "1  877522          \"the worst experience ever\"    Terry Anderson   \n",
       "2  877484        \"an exceptional crew member\"    Philip Thompson   \n",
       "3  877425       \"even Ryanair have more space\"           M Meijs   \n",
       "4  877380  \"in-flight service is usually weak\"    Mehmet Sahiner   \n",
       "\n",
       "          Country               Date  \\\n",
       "0  United Kingdom  23rd October 2023   \n",
       "1   United States  22nd October 2023   \n",
       "2  United Kingdom  22nd October 2023   \n",
       "3     Netherlands  21st October 2023   \n",
       "4  United Kingdom  21st October 2023   \n",
       "\n",
       "                                         long_review  aircraft  \\\n",
       "0  Not Verified |  I flew London to Cairo and ret...  A321 neo   \n",
       "1  Not Verified |  Absolutely the worst experienc...       NaN   \n",
       "2  Not Verified |   Flew back from Malta after sc...      A320   \n",
       "3  Not Verified | Cabin luggage had to go to carg...       NaN   \n",
       "4  ✅ Trip Verified |  I have been using BA for a ...  A380-800   \n",
       "\n",
       "  type_of_traveller    cabin_flown                          route  \\\n",
       "0          Business  Economy Class       London Heathrow to Cairo   \n",
       "1    Couple Leisure  Economy Class  Seattle to Porto via Heathrow   \n",
       "2    Couple Leisure  Economy Class        Malta to London Gatwick   \n",
       "3      Solo Leisure  Economy Class            London to Amsterdam   \n",
       "4      Solo Leisure  Economy Class        San Francisco to London   \n",
       "\n",
       "     date_flown seat_comfort cabin_staff_service food_and_beverages  \\\n",
       "0  October 2023            3                   5                  3   \n",
       "1  October 2023            2                   3                  3   \n",
       "2  October 2023            4                   5                  3   \n",
       "3  October 2023            1                   3                NaN   \n",
       "4  October 2023            3                   2                  2   \n",
       "\n",
       "  ground_service value_for_money recommended  \n",
       "0              5               2         yes  \n",
       "1              1               1          no  \n",
       "2              4               4         yes  \n",
       "3              2               1          no  \n",
       "4              2               3          no  "
      ]
     },
     "execution_count": 5,
     "metadata": {},
     "output_type": "execute_result"
    }
   ],
   "source": [
    "df.head()"
   ]
  },
  {
   "cell_type": "code",
   "execution_count": 6,
   "id": "f2c25964",
   "metadata": {},
   "outputs": [
    {
     "data": {
      "text/plain": [
       "(3586, 17)"
      ]
     },
     "execution_count": 6,
     "metadata": {},
     "output_type": "execute_result"
    }
   ],
   "source": [
    "df.shape"
   ]
  },
  {
   "cell_type": "code",
   "execution_count": 7,
   "id": "89bf3f4f",
   "metadata": {},
   "outputs": [
    {
     "name": "stdout",
     "output_type": "stream",
     "text": [
      "<class 'pandas.core.frame.DataFrame'>\n",
      "RangeIndex: 3586 entries, 0 to 3585\n",
      "Data columns (total 17 columns):\n",
      " #   Column               Non-Null Count  Dtype \n",
      "---  ------               --------------  ----- \n",
      " 0   rev_id               3586 non-null   object\n",
      " 1   review               3586 non-null   object\n",
      " 2   Name                 3586 non-null   object\n",
      " 3   Country              3584 non-null   object\n",
      " 4   Date                 3584 non-null   object\n",
      " 5   long_review          3586 non-null   object\n",
      " 6   aircraft             1914 non-null   object\n",
      " 7   type_of_traveller    2916 non-null   object\n",
      " 8   cabin_flown          3584 non-null   object\n",
      " 9   route                2912 non-null   object\n",
      " 10  date_flown           2909 non-null   object\n",
      " 11  seat_comfort         3471 non-null   object\n",
      " 12  cabin_staff_service  3460 non-null   object\n",
      " 13  food_and_beverages   3205 non-null   object\n",
      " 14  ground_service       2841 non-null   object\n",
      " 15  value_for_money      3586 non-null   object\n",
      " 16  recommended          3586 non-null   object\n",
      "dtypes: object(17)\n",
      "memory usage: 476.4+ KB\n"
     ]
    }
   ],
   "source": [
    "df.info()"
   ]
  },
  {
   "cell_type": "code",
   "execution_count": 8,
   "id": "ce58582f",
   "metadata": {},
   "outputs": [],
   "source": [
    "import numpy as np\n",
    "df = df.fillna(np.nan)\n",
    "df = df.replace('N/A', np.nan)"
   ]
  },
  {
   "cell_type": "code",
   "execution_count": 9,
   "id": "eac626ea",
   "metadata": {},
   "outputs": [],
   "source": [
    "int_dtype = [\"rev_id\", \"seat_comfort\", \"cabin_staff_service\",\"food_and_beverages\",\"ground_service\", \"value_for_money\"]\n",
    "df[int_dtype] = df[int_dtype].apply(pd.to_numeric, errors='coerce', axis=1)"
   ]
  },
  {
   "cell_type": "code",
   "execution_count": 10,
   "id": "4afc3040",
   "metadata": {},
   "outputs": [
    {
     "name": "stdout",
     "output_type": "stream",
     "text": [
      "<class 'pandas.core.frame.DataFrame'>\n",
      "RangeIndex: 3586 entries, 0 to 3585\n",
      "Data columns (total 17 columns):\n",
      " #   Column               Non-Null Count  Dtype  \n",
      "---  ------               --------------  -----  \n",
      " 0   rev_id               3586 non-null   float64\n",
      " 1   review               3586 non-null   object \n",
      " 2   Name                 3586 non-null   object \n",
      " 3   Country              3584 non-null   object \n",
      " 4   Date                 3584 non-null   object \n",
      " 5   long_review          3586 non-null   object \n",
      " 6   aircraft             1914 non-null   object \n",
      " 7   type_of_traveller    2916 non-null   object \n",
      " 8   cabin_flown          3584 non-null   object \n",
      " 9   route                2912 non-null   object \n",
      " 10  date_flown           2909 non-null   object \n",
      " 11  seat_comfort         3471 non-null   float64\n",
      " 12  cabin_staff_service  3460 non-null   float64\n",
      " 13  food_and_beverages   3204 non-null   float64\n",
      " 14  ground_service       2841 non-null   float64\n",
      " 15  value_for_money      3586 non-null   float64\n",
      " 16  recommended          3586 non-null   object \n",
      "dtypes: float64(6), object(11)\n",
      "memory usage: 476.4+ KB\n"
     ]
    }
   ],
   "source": [
    "df.info()"
   ]
  },
  {
   "cell_type": "markdown",
   "id": "b0fb5e4b",
   "metadata": {},
   "source": [
    "<h1>Data Export</h1>"
   ]
  },
  {
   "cell_type": "code",
   "execution_count": 11,
   "id": "065e6498",
   "metadata": {},
   "outputs": [],
   "source": [
    "df.to_csv(\"AirlineReviews.csv\", index=False)"
   ]
  },
  {
   "cell_type": "code",
   "execution_count": null,
   "id": "c873c721",
   "metadata": {},
   "outputs": [],
   "source": []
  }
 ],
 "metadata": {
  "kernelspec": {
   "display_name": "Python 3 (ipykernel)",
   "language": "python",
   "name": "python3"
  },
  "language_info": {
   "codemirror_mode": {
    "name": "ipython",
    "version": 3
   },
   "file_extension": ".py",
   "mimetype": "text/x-python",
   "name": "python",
   "nbconvert_exporter": "python",
   "pygments_lexer": "ipython3",
   "version": "3.9.7"
  }
 },
 "nbformat": 4,
 "nbformat_minor": 5
}
